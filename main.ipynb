{
 "cells": [
  {
   "cell_type": "code",
   "execution_count": 54,
   "metadata": {},
   "outputs": [],
   "source": [
    "import pandas as pd\n",
    "import numpy as np\n",
    "import missingno as msno\n",
    "from sklearn.impute import SimpleImputer\n",
    "import seaborn as sns\n",
    "import matplotlib.pyplot as plt "
   ]
  },
  {
   "cell_type": "code",
   "execution_count": 2,
   "metadata": {},
   "outputs": [
    {
     "name": "stdout",
     "output_type": "stream",
     "text": [
      "<class 'pandas.core.frame.DataFrame'>\n",
      "RangeIndex: 2640 entries, 0 to 2639\n",
      "Data columns (total 35 columns):\n",
      " #   Column                                      Non-Null Count  Dtype  \n",
      "---  ------                                      --------------  -----  \n",
      " 0   rank                                        2640 non-null   int64  \n",
      " 1   finalWorth                                  2640 non-null   int64  \n",
      " 2   category                                    2640 non-null   object \n",
      " 3   personName                                  2640 non-null   object \n",
      " 4   age                                         2575 non-null   float64\n",
      " 5   country                                     2602 non-null   object \n",
      " 6   city                                        2568 non-null   object \n",
      " 7   source                                      2640 non-null   object \n",
      " 8   industries                                  2640 non-null   object \n",
      " 9   countryOfCitizenship                        2640 non-null   object \n",
      " 10  organization                                325 non-null    object \n",
      " 11  selfMade                                    2640 non-null   bool   \n",
      " 12  status                                      2640 non-null   object \n",
      " 13  gender                                      2640 non-null   object \n",
      " 14  birthDate                                   2564 non-null   object \n",
      " 15  lastName                                    2640 non-null   object \n",
      " 16  firstName                                   2640 non-null   object \n",
      " 17  title                                       339 non-null    object \n",
      " 18  date                                        2640 non-null   object \n",
      " 19  state                                       753 non-null    object \n",
      " 20  residenceStateRegion                        747 non-null    object \n",
      " 21  birthYear                                   2564 non-null   float64\n",
      " 22  birthMonth                                  2564 non-null   float64\n",
      " 23  birthDay                                    2564 non-null   float64\n",
      " 24  cpi_country                                 2456 non-null   float64\n",
      " 25  cpi_change_country                          2456 non-null   float64\n",
      " 26  gdp_country                                 2476 non-null   object \n",
      " 27  gross_tertiary_education_enrollment         2458 non-null   float64\n",
      " 28  gross_primary_education_enrollment_country  2459 non-null   float64\n",
      " 29  life_expectancy_country                     2458 non-null   float64\n",
      " 30  tax_revenue_country_country                 2457 non-null   float64\n",
      " 31  total_tax_rate_country                      2458 non-null   float64\n",
      " 32  population_country                          2476 non-null   float64\n",
      " 33  latitude_country                            2476 non-null   float64\n",
      " 34  longitude_country                           2476 non-null   float64\n",
      "dtypes: bool(1), float64(14), int64(2), object(18)\n",
      "memory usage: 704.0+ KB\n"
     ]
    }
   ],
   "source": [
    "df = pd.read_csv('../data/data.csv')\n",
    "df.info()"
   ]
  },
  {
   "cell_type": "code",
   "execution_count": null,
   "metadata": {},
   "outputs": [],
   "source": [
    "print(df.isnull().sum())\n",
    "msno.matrix(df) # or msno.bar()"
   ]
  },
  {
   "cell_type": "code",
   "execution_count": null,
   "metadata": {},
   "outputs": [],
   "source": [
    "df.hist(bins=50, figsize=(20,15))\n",
    "plt.show()"
   ]
  },
  {
   "cell_type": "code",
   "execution_count": null,
   "metadata": {},
   "outputs": [],
   "source": [
    "# 직업 카테고리\n",
    "category = df['category'].value_counts()\n",
    "plt.figure(figsize=(7,7))\n",
    "plt.pie(category,labels=category.index, autopct='%1.1f%%')\n",
    "plt.title('Category')\n",
    "plt.show"
   ]
  },
  {
   "cell_type": "code",
   "execution_count": null,
   "metadata": {},
   "outputs": [],
   "source": [
    "# 억만장자 거주나라\n",
    "countries = df['country'].value_counts().head(7)\n",
    "plt.figure(figsize=(10, 6))\n",
    "plt.bar(countries.index, countries.values)\n",
    "plt.xlabel('Country')\n",
    "plt.ylabel('Number of Billionaires')\n",
    "plt.title('Countries with the Highest Number of Billionaires')\n",
    "plt.show()"
   ]
  },
  {
   "cell_type": "code",
   "execution_count": null,
   "metadata": {},
   "outputs": [],
   "source": [
    "'''\n",
    "# 지도통해서 데이터 시각화 돌리지 않아도 괜찮습니다.\n",
    "import geopandas as gpd\n",
    "import folium\n",
    "from folium.plugins import MarkerCluster\n",
    "\n",
    "spatial_data = df[['latitude_country','longitude_country','country']]\n",
    "spatial_data=spatial_data.dropna()\n",
    "\n",
    "data = spatial_data.copy()\n",
    "data = data.rename(columns={'latitude_country': 'Latitude',\n",
    "                        'longitude_country': 'Longitude',\n",
    "                        'country':'Country'})\n",
    "\n",
    "# Group by country and count the number of billionaires\n",
    "billionaires_count = data.groupby('Country').size().reset_index(name='Billionaires')\n",
    "\n",
    "# Load world map shapefile\n",
    "world = gpd.read_file(gpd.datasets.get_path('naturalearth_lowres'))\n",
    "\n",
    "# Merge world map with billionaires count data\n",
    "world = world.merge(billionaires_count, how='left', left_on='name', right_on='Country')\n",
    "\n",
    "# Fill missing values with 0 (for countries without billionaires)\n",
    "world['Billionaires'] = world['Billionaires'].fillna(0)\n",
    "\n",
    "# Create choropleth map\n",
    "m = folium.Map(location=[30, 0], zoom_start=2)\n",
    "\n",
    "folium.Choropleth(\n",
    "    geo_data=world,\n",
    "    name='choropleth',\n",
    "    data=billionaires_count,\n",
    "    columns=['Country', 'Billionaires'],\n",
    "    key_on='feature.properties.name',\n",
    "    fill_color='YlGn',\n",
    "    fill_opacity=0.7,\n",
    "    line_opacity=0.2,\n",
    "    legend_name='Number of Billionaires',\n",
    ").add_to(m)\n",
    "\n",
    "# Add markers for individual billionaires (optional)\n",
    "marker_cluster = MarkerCluster().add_to(m)\n",
    "for index, row in data.iterrows():\n",
    "    folium.Marker(\n",
    "        location=[row['Latitude'], row['Longitude']],\n",
    "        popup=f'Country: {row[\"Country\"]}',\n",
    "        icon=None  # You can customize the marker icon here\n",
    "    ).add_to(marker_cluster)\n",
    "\n",
    "# Display the map\n",
    "m.save('billionaires_map.html')\n",
    "m\n",
    "'''"
   ]
  },
  {
   "cell_type": "code",
   "execution_count": null,
   "metadata": {},
   "outputs": [],
   "source": [
    "print(df['category'].equals(df['industries'])) # 같은 데이터를 가지고 있는지 확인\n",
    "print(df['country'].equals(df['countryOfCitizenship']))"
   ]
  },
  {
   "cell_type": "code",
   "execution_count": null,
   "metadata": {},
   "outputs": [],
   "source": [
    "choice = df['country'] == df['countryOfCitizenship']\n",
    "choice.value_counts(False)"
   ]
  },
  {
   "cell_type": "markdown",
   "metadata": {},
   "source": [
    "대체\n",
    "\n",
    "firstname -> 결측값이 적어 직접 인터넷 검색 인도네시아 사업가, 리한나(Fenty), 제이지(Carter)제이지는 가명이라  라스트 네임(shawn)도 바꿀까 생각중  3개뿐이라 엑셀에서 자체수정\n",
    "\n",
    "country -> 이름이 있는 인물들은 직접 검색\n",
    "\n",
    "city-> 각 coutry 및 state를 확인 없다면 coutry에서 가장많은 city로 대체\n",
    "\n",
    "age,month -> 추론 가능 데이터 없음 age가 비어있는 인원은 다른 값들도 많이 비워져 있음 및 정규분포 데이터이므로 mean값으로 대체\n",
    "\n",
    "cpi -> hongkong: 105.5 , monaco: , 타이완: 106.9\n",
    "\n",
    "삭제\n",
    "\n",
    "firstname, lastname, city, source -> city는 나라가 있기 때문에 삭제, source는 보류 및 삭제, 이름은 다른 데이터 전처리 예외처리 사용 및 삭제\n",
    "\n",
    "country 결측값들은 county 같은 인원들을 뽑아 mean 값으로 처리 하려했으나 country 없는 데이터는 다른 데이터 결측값도 많아 삭제\n",
    "\n",
    "oganization -> city & country & industries로 추론해보려 했으나 3가지 컬럼이 같아도 다른 회사인 경우 많아 삭제\n",
    "\n",
    "industries -> category와 동일한 데이터 삭제\n",
    "\n",
    "title -> 중요한 정보이나 추론 가능성 모르겠음\n",
    "\n",
    "rank -> index와 같은 역할 삭제\n",
    "\n",
    "birthDate,birthYear,brithDay -> age가 있으므로 삭제 Month는 사용\n",
    "\n",
    "state -> 미국이 아닌경우 추론 불가 좋은 데이터이나 미국에만 적용되므로 삭제\n",
    "\n",
    "residenceStateRegion -> country 또는 state랑 같은 부분이라 삭제\n",
    "\n",
    "personName -> fistname과 last네임 이랑 겹치므로 삭제\n",
    "\n",
    "date 수집날짜는 같은 날짜 시간만 다르기 때문에 삭제\n",
    "\n",
    "보류\n",
    "\n",
    "latitude_country, longitude_country 위도 경도 삭제? -> 추후 결정\n",
    "\n",
    "country -> countryOfCitizenship 와 비슷하나 다른 값들도 많아 보류 확인차 검색해 보았는데 국가가 countryOfCitizenship쪽으로 설명이 많음"
   ]
  },
  {
   "cell_type": "code",
   "execution_count": 3,
   "metadata": {},
   "outputs": [],
   "source": [
    "def get_X(df:pd.DataFrame):\n",
    "  '''Make feature vectors from a DataFrame.\n",
    "\n",
    "  Args:\n",
    "      df: DataFrame\n",
    "      features: selected columns\n",
    "  '''\n",
    "  df['gdp_country'] = df['gdp_country'].str.replace('$','')\n",
    "  df['gdp_country'] = df['gdp_country'].str.replace(',','')\n",
    "  df['gdp_country'] = df['gdp_country'].astype('float64')\n",
    "\n",
    "  # 나이 빈 데이터 평균값으로 대체\n",
    "  df['age'].fillna(df['age'].mean(), inplace=True)\n",
    "  \n",
    "  # country 빈 데이터 시민권으로 대체\n",
    "  df['country'].fillna(df['countryOfCitizenship'],inplace=True)\n",
    "  \n",
    "  # 시민권별로 그룹화하고 윗 내용으로 결측값 처리\n",
    "  df = df.groupby('countryOfCitizenship').fillna(method='ffill') \n",
    "  df['city'].fillna('New York',inplace=True)\n",
    "  df.fillna(df.mean(numeric_only=True),inplace=True)\n",
    "  \n",
    "  '''\n",
    "  # 원핫인 코딩을 위한 처리\n",
    "  df['gender'] = df['gender'].map({'F': 0, 'M': 1})\n",
    "  df['status'] = df['status'].map({'U': 0, 'D': 1,'N': 2, 'Split Family Fortune': 3,'E': 4, 'R': 5})\n",
    "  df['category'] = df['category'].map({'Fashion & Retail': 0, 'Automotive': 1,'Technology': 2, 'Finance & Investments': 3,'Media & Entertainment': 4, 'Telecom': 5,'Diversified': 6, 'Food & Beverage': 7,'Logistics': 8, 'Gambling & Casinos': 9, 'Manufacturing': 10,'Real Estate': 11, 'Metals & Mining': 12, 'Energy': 13,'Healthcare': 14, 'Service': 15,'Construction & Engineering': 16, 'Sports': 17})\n",
    "  '''\n",
    "      \n",
    "  # 나이 10대 별로 분배\n",
    "  def category_age(x):\n",
    "        if x < 20:\n",
    "            return 0\n",
    "        elif x < 30:\n",
    "            return 1\n",
    "        elif x < 40:\n",
    "            return 2\n",
    "        elif x < 50:\n",
    "            return 3\n",
    "        elif x < 60:\n",
    "            return 4\n",
    "        elif x < 70:\n",
    "            return 5\n",
    "        elif x < 80:\n",
    "            return 6\n",
    "        elif x < 90:\n",
    "            return 7\n",
    "        elif x < 100:\n",
    "            return 8\n",
    "        else:\n",
    "            return 9\n",
    "\n",
    "  df['age'] = df['age'].apply(category_age)\n",
    "  \n",
    "  def category_month(x):\n",
    "      if x < 3:\n",
    "          return 0\n",
    "      elif x < 6:\n",
    "          return 1\n",
    "      elif x < 9:\n",
    "          return 2\n",
    "      elif x < 12:\n",
    "          return 3\n",
    "      else:\n",
    "          return 0\n",
    "      \n",
    "  df['birthMonth'] = df['birthMonth'].apply(category_month)\n",
    "  # 필요없는 columns delete\n",
    "  # .dropna(thresh=int(len(data)*0.5),axis=1) 50% 이상 데이터가 없을 경우 삭제\n",
    "  df.drop(['source','city','lastName','firstName','selfMade','title','rank','state','residenceStateRegion','date','personName','birthDay','birthDate','birthYear','organization'], axis=1, inplace=True)\n",
    "  '''\n",
    "  # 원-핫 인코딩\n",
    "  pd.get_dummies(df['status']).to_numpy(dtype=np.float64)\n",
    "  pd.get_dummies(df['gender']).to_numpy(dtype=np.float64)\n",
    "  pd.get_dummies(df['category']).to_numpy(dtype=np.float64)\n",
    "  pd.get_dummies(df['age']).to_numpy(dtype=np.float64)\n",
    "  pd.get_dummies(df['birthMonth']).to_numpy(dtype=np.float64)\n",
    "  '''\n",
    "  print('Missing Value: \\n',df.isnull().sum())\n",
    "  msno.matrix(df)\n",
    "  return pd.get_dummies(df)\n",
    "\n",
    "def get_y(df:pd.DataFrame):\n",
    "  '''Make the target from a DataFrame.\n",
    "\n",
    "  Args:\n",
    "      df: DataFrame\n",
    "  '''\n",
    "  print(df['selfMade'].value_counts())\n",
    "  return df.selfMade.to_numpy(dtype=np.float64)"
   ]
  },
  {
   "cell_type": "code",
   "execution_count": 4,
   "metadata": {},
   "outputs": [
    {
     "name": "stdout",
     "output_type": "stream",
     "text": [
      "selfMade\n",
      "True     1812\n",
      "False     828\n",
      "Name: count, dtype: int64\n"
     ]
    }
   ],
   "source": [
    "X_trn = get_X(df)\n",
    "y_trn = get_y(df)"
   ]
  },
  {
   "cell_type": "code",
   "execution_count": 5,
   "metadata": {},
   "outputs": [
    {
     "data": {
      "text/plain": [
       "((2640, 137), (2640,))"
      ]
     },
     "execution_count": 5,
     "metadata": {},
     "output_type": "execute_result"
    }
   ],
   "source": [
    "X_trn.shape, y_trn.shape"
   ]
  },
  {
   "cell_type": "code",
   "execution_count": 16,
   "metadata": {},
   "outputs": [
    {
     "data": {
      "text/plain": [
       "<Axes: >"
      ]
     },
     "execution_count": 16,
     "metadata": {},
     "output_type": "execute_result"
    },
    {
     "data": {
      "image/png": "[encoded data removed]",
      "text/plain": [
       "<Figure size 640x480 with 1 Axes>"
      ]
     },
     "metadata": {},
     "output_type": "display_data"
    }
   ],
   "source": [
    "X_trn.boxplot(['age','gdp_country','finalWorth']) # colums넣어서 확인"
   ]
  },
  {
   "cell_type": "markdown",
   "metadata": {},
   "source": [
    "고려 사항\n",
    "\n",
    "샘플링 -> 데이터가 불균형하지만 양이 적음\n",
    "\n",
    "스케일링 -> 데이터 이상치 column들이 좀 있음"
   ]
  },
  {
   "cell_type": "code",
   "execution_count": null,
   "metadata": {},
   "outputs": [],
   "source": [
    "# 귀무가설로 데이터 설명력(R-squrd)와 P-value값을 확인 하는 코드 칼럼이 많아서 작동 x\n",
    "'''\n",
    "import statsmodels.api as sm \n",
    "model=sm.Logit(y_trn.astype(float),X_trn.astype(float))\n",
    "result=model.fit()\n",
    "print(result.summary2())\n",
    "'''"
   ]
  },
  {
   "cell_type": "markdown",
   "metadata": {},
   "source": [
    "데이터 분할\n",
    "\n",
    "trn 데이터를 test와 train으로 나눈 후 \n",
    "\n",
    "train을 다시 val과 train으로 나누어 파라미터 값 확인\n",
    "\n",
    "파라미터 확인 후 정밀도 확인 할 경우 val + train 데이터 활용\n",
    "\n",
    "**당장은 틀과 전처리에 신경써서 활용x**"
   ]
  },
  {
   "cell_type": "markdown",
   "metadata": {},
   "source": [
    "Randomforest"
   ]
  },
  {
   "cell_type": "code",
   "execution_count": 17,
   "metadata": {},
   "outputs": [],
   "source": [
    "from sklearn.ensemble import RandomForestClassifier\n",
    "from sklearn.model_selection import GridSearchCV\n",
    "from sklearn.pipeline import Pipeline\n",
    "from sklearn.preprocessing import StandardScaler\n",
    "from sklearn.model_selection import cross_validate\n",
    "import warnings\n",
    "warnings.simplefilter(\"ignore\")"
   ]
  },
  {
   "cell_type": "code",
   "execution_count": 41,
   "metadata": {},
   "outputs": [
    {
     "name": "stdout",
     "output_type": "stream",
     "text": [
      "{'clf__max_depth': 5, 'clf__n_estimators': 90}\n",
      "0.7689393939393939\n"
     ]
    }
   ],
   "source": [
    "pipe=Pipeline([ \n",
    "    ('scaler',StandardScaler()),\n",
    "    ('clf', RandomForestClassifier(random_state=0))\n",
    "])\n",
    "params={\n",
    "    'clf__max_depth': list(range(3,6)),\n",
    "    'clf__n_estimators': list(range(10,110,10))\n",
    "}\n",
    "grid=GridSearchCV(pipe, params, scoring='accuracy', cv=3)\n",
    "grid.fit(X_trn,y_trn)\n",
    "print(grid.best_params_)\n",
    "print(grid.best_score_)"
   ]
  },
  {
   "cell_type": "code",
   "execution_count": 38,
   "metadata": {},
   "outputs": [
    {
     "data": {
      "text/html": [
       "<div>\n",
       "<style scoped>\n",
       "    .dataframe tbody tr th:only-of-type {\n",
       "        vertical-align: middle;\n",
       "    }\n",
       "\n",
       "    .dataframe tbody tr th {\n",
       "        vertical-align: top;\n",
       "    }\n",
       "\n",
       "    .dataframe thead th {\n",
       "        text-align: right;\n",
       "    }\n",
       "</style>\n",
       "<table border=\"1\" class=\"dataframe\">\n",
       "  <thead>\n",
       "    <tr style=\"text-align: right;\">\n",
       "      <th></th>\n",
       "      <th>fit_time</th>\n",
       "      <th>score_time</th>\n",
       "      <th>test_accuracy</th>\n",
       "      <th>test_precision</th>\n",
       "      <th>test_recall</th>\n",
       "      <th>test_f1</th>\n",
       "    </tr>\n",
       "  </thead>\n",
       "  <tbody>\n",
       "    <tr>\n",
       "      <th>0</th>\n",
       "      <td>0.018985</td>\n",
       "      <td>0.014174</td>\n",
       "      <td>0.776515</td>\n",
       "      <td>0.806533</td>\n",
       "      <td>0.886740</td>\n",
       "      <td>0.844737</td>\n",
       "    </tr>\n",
       "    <tr>\n",
       "      <th>1</th>\n",
       "      <td>0.026184</td>\n",
       "      <td>0.005000</td>\n",
       "      <td>0.765152</td>\n",
       "      <td>0.788835</td>\n",
       "      <td>0.897790</td>\n",
       "      <td>0.839793</td>\n",
       "    </tr>\n",
       "    <tr>\n",
       "      <th>2</th>\n",
       "      <td>0.026616</td>\n",
       "      <td>0.005000</td>\n",
       "      <td>0.759470</td>\n",
       "      <td>0.765237</td>\n",
       "      <td>0.936464</td>\n",
       "      <td>0.842236</td>\n",
       "    </tr>\n",
       "    <tr>\n",
       "      <th>3</th>\n",
       "      <td>0.021197</td>\n",
       "      <td>0.011473</td>\n",
       "      <td>0.761364</td>\n",
       "      <td>0.768707</td>\n",
       "      <td>0.933884</td>\n",
       "      <td>0.843284</td>\n",
       "    </tr>\n",
       "    <tr>\n",
       "      <th>4</th>\n",
       "      <td>0.019496</td>\n",
       "      <td>0.014833</td>\n",
       "      <td>0.784091</td>\n",
       "      <td>0.768898</td>\n",
       "      <td>0.980716</td>\n",
       "      <td>0.861985</td>\n",
       "    </tr>\n",
       "    <tr>\n",
       "      <th>mean</th>\n",
       "      <td>0.022496</td>\n",
       "      <td>0.010096</td>\n",
       "      <td>0.769318</td>\n",
       "      <td>0.779642</td>\n",
       "      <td>0.927119</td>\n",
       "      <td>0.846407</td>\n",
       "    </tr>\n",
       "    <tr>\n",
       "      <th>std</th>\n",
       "      <td>0.003660</td>\n",
       "      <td>0.004819</td>\n",
       "      <td>0.010579</td>\n",
       "      <td>0.017678</td>\n",
       "      <td>0.037069</td>\n",
       "      <td>0.008893</td>\n",
       "    </tr>\n",
       "  </tbody>\n",
       "</table>\n",
       "</div>"
      ],
      "text/plain": [
       "      fit_time  score_time  test_accuracy  test_precision  test_recall   \n",
       "0     0.018985    0.014174       0.776515        0.806533     0.886740  \\\n",
       "1     0.026184    0.005000       0.765152        0.788835     0.897790   \n",
       "2     0.026616    0.005000       0.759470        0.765237     0.936464   \n",
       "3     0.021197    0.011473       0.761364        0.768707     0.933884   \n",
       "4     0.019496    0.014833       0.784091        0.768898     0.980716   \n",
       "mean  0.022496    0.010096       0.769318        0.779642     0.927119   \n",
       "std   0.003660    0.004819       0.010579        0.017678     0.037069   \n",
       "\n",
       "       test_f1  \n",
       "0     0.844737  \n",
       "1     0.839793  \n",
       "2     0.842236  \n",
       "3     0.843284  \n",
       "4     0.861985  \n",
       "mean  0.846407  \n",
       "std   0.008893  "
      ]
     },
     "execution_count": 38,
     "metadata": {},
     "output_type": "execute_result"
    }
   ],
   "source": [
    "scoring = ['accuracy', 'precision', 'recall', 'f1']\n",
    "\n",
    "clf = RandomForestClassifier(n_estimators=20, max_depth=5, random_state=2023)\n",
    "scores = cross_validate(clf, X_trn, y_trn, scoring=scoring, cv=5)\n",
    "\n",
    "scores_df = pd.DataFrame(scores)\n",
    "pd.concat([scores_df, scores_df.apply(['mean', 'std'])])"
   ]
  },
  {
   "cell_type": "markdown",
   "metadata": {},
   "source": [
    "## 데이터 분할\n"
   ]
  },
  {
   "cell_type": "code",
   "execution_count": null,
   "metadata": {},
   "outputs": [],
   "source": [
    "from sklearn.model_selection import train_test_split\n",
    "X_train,X_test,y_train,y_test=train_test_split(X_trn,y_trn,test_size=0.2,stratify=y_trn,random_state=2023)"
   ]
  },
  {
   "cell_type": "code",
   "execution_count": null,
   "metadata": {},
   "outputs": [],
   "source": [
    "scoring = ['accuracy', 'precision', 'recall', 'f1']\n",
    "\n",
    "clf = RandomForestClassifier(n_estimators=20, max_depth=5, random_state=2023)\n",
    "scores = cross_validate(clf, X_train, y_train, scoring=scoring, cv=5)\n",
    "\n",
    "scores_df = pd.DataFrame(scores)\n",
    "pd.concat([scores_df, scores_df.apply(['mean', 'std'])])"
   ]
  },
  {
   "cell_type": "code",
   "execution_count": null,
   "metadata": {},
   "outputs": [],
   "source": [
    "X_train,X_test,y_train,y_test=train_test_split(X_trn,y_trn,test_size=0.3,stratify=y_trn,random_state=2023)"
   ]
  },
  {
   "cell_type": "code",
   "execution_count": null,
   "metadata": {},
   "outputs": [],
   "source": [
    "scoring = ['accuracy', 'precision', 'recall', 'f1']\n",
    "\n",
    "clf = RandomForestClassifier(n_estimators=20, max_depth=5, random_state=2023)\n",
    "scores = cross_validate(clf, X_train, y_train, scoring=scoring, cv=5)\n",
    "\n",
    "scores_df = pd.DataFrame(scores)\n",
    "pd.concat([scores_df, scores_df.apply(['mean', 'std'])])"
   ]
  },
  {
   "cell_type": "code",
   "execution_count": null,
   "metadata": {},
   "outputs": [],
   "source": [
    "X_train,X_test,y_train,y_test=train_test_split(X_trn,y_trn,test_size=0.1,stratify=y_trn,random_state=2023)"
   ]
  },
  {
   "cell_type": "code",
   "execution_count": null,
   "metadata": {},
   "outputs": [],
   "source": [
    "scoring = ['accuracy', 'precision', 'recall', 'f1']\n",
    "\n",
    "clf = RandomForestClassifier(n_estimators=20, max_depth=5, random_state=2023)\n",
    "scores = cross_validate(clf, X_train, y_train, scoring=scoring, cv=5)\n",
    "\n",
    "scores_df = pd.DataFrame(scores)\n",
    "pd.concat([scores_df, scores_df.apply(['mean', 'std'])])"
   ]
  },
  {
   "cell_type": "code",
   "execution_count": 55,
   "metadata": {},
   "outputs": [
    {
     "name": "stdout",
     "output_type": "stream",
     "text": [
      "gender_F                                      0.094689\n",
      "country_China                                 0.088438\n",
      "gender_M                                      0.077014\n",
      "gross_primary_education_enrollment_country    0.069980\n",
      "tax_revenue_country_country                   0.069093\n",
      "longitude_country                             0.065323\n",
      "gross_tertiary_education_enrollment           0.060292\n",
      "country_Germany                               0.045379\n",
      "population_country                            0.036299\n",
      "cpi_country                                   0.034237\n",
      "industries_Technology                         0.032498\n",
      "latitude_country                              0.030678\n",
      "category_Technology                           0.029827\n",
      "total_tax_rate_country                        0.029199\n",
      "life_expectancy_country                       0.027781\n",
      "dtype: float64\n"
     ]
    }
   ],
   "source": [
    "clf.fit(X_trn,y_trn)\n",
    "# print(clf.feature_importances_, '\\n')\n",
    "# 시리즈로 만들어 인덱스를 붙인다\n",
    "ser = pd.Series(clf.feature_importances_, index=X_trn.columns)\n",
    "\n",
    "# 내림차순 정렬을 이용한다, 중요도 탑 15개 출력\n",
    "top15 = ser.sort_values(ascending=False)[:15]\n",
    "print(top15)"
   ]
  },
  {
   "cell_type": "code",
   "execution_count": 56,
   "metadata": {},
   "outputs": [
    {
     "data": {
      "image/png": "[encoded data removed]",
      "text/plain": [
       "<Figure size 800x600 with 1 Axes>"
      ]
     },
     "metadata": {},
     "output_type": "display_data"
    }
   ],
   "source": [
    "plt.figure(figsize=(8,6))\n",
    "plt.title('Feature Importances Top 15')\n",
    "sns.barplot(x=top15, y=top15.index)\n",
    "plt.show()"
   ]
  },
  {
   "cell_type": "markdown",
   "metadata": {},
   "source": [
    "KNN"
   ]
  },
  {
   "cell_type": "code",
   "execution_count": 58,
   "metadata": {},
   "outputs": [
    {
     "name": "stdout",
     "output_type": "stream",
     "text": [
      "{'clf__n_neighbors': 7}\n",
      "0.7450757575757576\n"
     ]
    }
   ],
   "source": [
    "from sklearn.neighbors import KNeighborsClassifier\n",
    "pipe=Pipeline([ \n",
    "    ('scaler',StandardScaler()), #스케일링시 74%, 없을때 65%\n",
    "    ('clf', KNeighborsClassifier())\n",
    "])\n",
    "params={\n",
    "    'clf__n_neighbors': list(range(1,11))\n",
    "}\n",
    "grid=GridSearchCV(pipe, params, scoring='accuracy', cv=3)\n",
    "grid.fit(X_trn,y_trn)\n",
    "print(grid.best_params_)\n",
    "print(grid.best_score_)"
   ]
  },
  {
   "cell_type": "markdown",
   "metadata": {},
   "source": [
    "SVC"
   ]
  },
  {
   "cell_type": "code",
   "execution_count": null,
   "metadata": {},
   "outputs": [],
   "source": [
    "from sklearn.svm import SVC\n",
    "pipe=Pipeline([ \n",
    "    ('scaler',StandardScaler()),#스케일링시 75%, 없을때 68%\n",
    "    ('clf', SVC(random_state=2023))\n",
    "])\n",
    "params={\n",
    "    'clf__C': [0.001, 0.01, 0.1, 1, 10, 100, 1000],\n",
    "    'clf__gamma': [0.0001, 0.001, 0.01, 0.1]\n",
    "}\n",
    "grid=GridSearchCV(pipe, params, scoring='accuracy', cv=3)\n",
    "grid.fit(X_trn,y_trn)\n",
    "print(grid.best_params_)\n",
    "print(grid.best_score_)"
   ]
  },
  {
   "cell_type": "markdown",
   "metadata": {},
   "source": [
    "## ANN 추가"
   ]
  },
  {
   "cell_type": "code",
   "execution_count": null,
   "metadata": {},
   "outputs": [],
   "source": []
  }
 ],
 "metadata": {
  "kernelspec": {
   "display_name": "Python 3",
   "language": "python",
   "name": "python3"
  },
  "language_info": {
   "codemirror_mode": {
    "name": "ipython",
    "version": 3
   },
   "file_extension": ".py",
   "mimetype": "text/x-python",
   "name": "python",
   "nbconvert_exporter": "python",
   "pygments_lexer": "ipython3",
   "version": "3.11.3"
  }
 },
 "nbformat": 4,
 "nbformat_minor": 2
}
